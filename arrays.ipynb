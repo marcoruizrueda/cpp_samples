{
 "cells": [
  {
   "cell_type": "markdown",
   "metadata": {},
   "source": [
    "# Sequence Containers"
   ]
  },
  {
   "cell_type": "markdown",
   "metadata": {},
   "source": [
    "## Vector"
   ]
  },
  {
   "cell_type": "code",
   "execution_count": 1,
   "metadata": {},
   "outputs": [
    {
     "name": "stdout",
     "output_type": "stream",
     "text": [
      "\n",
      "1  2  3  \n",
      "4  5  6  \n",
      "8  8  "
     ]
    }
   ],
   "source": [
    "#include <iostream>\n",
    "#include <vector>\n",
    "\n",
    "/*\n",
    "    EXAMPLES OF VECTOR\n",
    "*/\n",
    "\n",
    "void printElements(std::vector<int> *v)\n",
    "{\n",
    "    std::cout << std::endl;\n",
    "    // Ranged loop\n",
    "    for (const int& i : *v) {\n",
    "        std::cout << i << \"  \";\n",
    "    }\n",
    "}\n",
    "\n",
    "\n",
    "// Initializer list\n",
    "std::vector<int> v1 = {1, 2, 3};\n",
    "\n",
    "// Uniform initialization\n",
    "std::vector<int> v2 {4, 5, 6};\n",
    "\n",
    "// Method 3\n",
    "std::vector<int> v3 (2, 8);\n",
    "\n",
    "// Only print\n",
    "printElements(&v1);\n",
    "printElements(&v2);\n",
    "printElements(&v3);\n"
   ]
  },
  {
   "cell_type": "code",
   "execution_count": 2,
   "metadata": {},
   "outputs": [
    {
     "name": "stdout",
     "output_type": "stream",
     "text": [
      "\n",
      "1  2  3  0  "
     ]
    }
   ],
   "source": [
    "void addToVector(int elemToAdd, std::vector<int> *v)\n",
    "{\n",
    "    // Push back element to the vector\n",
    "    v->push_back(elemToAdd);\n",
    "}\n",
    "\n",
    "\n",
    "// Add int and print modified vector\n",
    "addToVector(0, &v1);\n",
    "printElements(&v1);\n",
    "\n"
   ]
  },
  {
   "cell_type": "markdown",
   "metadata": {},
   "source": [
    "## Array"
   ]
  },
  {
   "cell_type": "code",
   "execution_count": 3,
   "metadata": {},
   "outputs": [],
   "source": [
    "//#ifndef iostream\n",
    "#include <iostream>\n",
    "//#endif"
   ]
  },
  {
   "cell_type": "code",
   "execution_count": 4,
   "metadata": {},
   "outputs": [
    {
     "name": "stdout",
     "output_type": "stream",
     "text": [
      "0 0 0 0 0 0 \n",
      "0\n",
      "1 2 3 \n",
      "4 5 6 "
     ]
    }
   ],
   "source": [
    "//#ifndef x\n",
    "//    #define int x[6];\n",
    "//#endif\n",
    "#include <iostream>\n",
    "\n",
    "int x[6];\n",
    "for(int i = 0; i < 6; i++)\n",
    "    std::cout << x[i] << \" \";\n",
    "\n",
    "// Access\n",
    "std::cout << std::endl << x[1] << std::endl;\n",
    "\n",
    "// Declare and Initialize array (1)\n",
    "int y[3] = {1, 2, 3};\n",
    "for(int i = 0; i < 3; i++)\n",
    "    std::cout << y[i] << \" \";\n",
    "\n",
    "// Declare and Initialize array (2)\n",
    "std::cout << std::endl;\n",
    "int y2[] = {4, 5, 6};\n",
    "for(int i = 0; i < 3; i++)\n",
    "    std::cout << y2[i] << \" \";\n"
   ]
  },
  {
   "cell_type": "code",
   "execution_count": 5,
   "metadata": {},
   "outputs": [
    {
     "name": "stdout",
     "output_type": "stream",
     "text": [
      "1 2 0 0 0 0 0 0 0 0 "
     ]
    }
   ],
   "source": [
    "#include <iostream>\n",
    "\n",
    "// Array with empty members\n",
    "float f[10] = {1, 2};\n",
    "\n",
    "// Print using range based for loop\n",
    "for (const int &n : f )\n",
    "{\n",
    "    std::cout << n << \" \";\n",
    "}"
   ]
  },
  {
   "cell_type": "code",
   "execution_count": 6,
   "metadata": {},
   "outputs": [
    {
     "data": {
      "text/plain": [
       "{ 0, 1, 2, 3, 4, 5, 6, 7, 8, 9 }"
      ]
     },
     "execution_count": 6,
     "metadata": {},
     "output_type": "execute_result"
    }
   ],
   "source": [
    "// Add elements to array\n",
    "int new_[10];\n",
    "for (int i=0; i< 10; i++)\n",
    "    new_[i] = i;\n",
    "new_"
   ]
  },
  {
   "cell_type": "markdown",
   "metadata": {},
   "source": [
    "## Deque\n",
    "In a regular queue, elements are added from the rear and removed from the front. However, in a deque, we can insert and remove elements from both the front and rear."
   ]
  },
  {
   "cell_type": "code",
   "execution_count": 7,
   "metadata": {},
   "outputs": [
    {
     "data": {
      "text/plain": [
       "{ \"a1\", \"a2\", \"a3\" }"
      ]
     },
     "execution_count": 7,
     "metadata": {},
     "output_type": "execute_result"
    }
   ],
   "source": [
    "#include <deque>\n",
    "#include <iostream>\n",
    "\n",
    "// Create a deque\n",
    "std::deque<std::string> dq_string = {\"a1\", \"a2\", \"a3\"};\n",
    "dq_string"
   ]
  },
  {
   "cell_type": "code",
   "execution_count": 8,
   "metadata": {},
   "outputs": [
    {
     "name": "stdout",
     "output_type": "stream",
     "text": [
      "a1, a2, a3, "
     ]
    }
   ],
   "source": [
    "// Display elements\n",
    "for (std::string s : dq_string)\n",
    "{\n",
    "    std::cout << s << \", \";\n",
    "}"
   ]
  },
  {
   "cell_type": "code",
   "execution_count": 9,
   "metadata": {},
   "outputs": [
    {
     "data": {
      "text/plain": [
       "{ \"a0\", \"a1\", \"a2\", \"a3\", \"a4\" }"
      ]
     },
     "execution_count": 9,
     "metadata": {},
     "output_type": "execute_result"
    }
   ],
   "source": [
    "// Insert element at the back\n",
    "dq_string.push_back(\"a4\");\n",
    "// Insert element at the front\n",
    "dq_string.push_front(\"a0\");\n",
    "dq_string"
   ]
  },
  {
   "cell_type": "code",
   "execution_count": 10,
   "metadata": {},
   "outputs": [
    {
     "name": "stdout",
     "output_type": "stream",
     "text": [
      "Element at index 0: a0\n",
      "Element at index 1: a1\n",
      "Front element: a0\n",
      "Back element: a4\n"
     ]
    }
   ],
   "source": [
    "// Access element\n",
    "std::cout << \"Element at index 0: \" << dq_string[0] << std::endl; // Avoid because gives a garbage value when out-of-bounds\n",
    "std::cout << \"Element at index 1: \" << dq_string.at(1) << std::endl; // Prefered because throws an exception \n",
    "std::cout << \"Front element: \" << dq_string.front() << std::endl;\n",
    "std::cout << \"Back element: \" << dq_string.back() << std::endl;"
   ]
  },
  {
   "cell_type": "code",
   "execution_count": 11,
   "metadata": {},
   "outputs": [
    {
     "data": {
      "text/plain": [
       "{ \"A0\", \"a1\", \"a2\", \"a3\", \"a4\" }"
      ]
     },
     "execution_count": 11,
     "metadata": {},
     "output_type": "execute_result"
    }
   ],
   "source": [
    "// Change Elements of a Deque\n",
    "dq_string.at(0) = \"A0\";\n",
    "dq_string"
   ]
  },
  {
   "cell_type": "code",
   "execution_count": 12,
   "metadata": {},
   "outputs": [
    {
     "name": "stdout",
     "output_type": "stream",
     "text": [
      "A0, a1, a2, a3, a4, "
     ]
    }
   ],
   "source": [
    "#include <deque>\n",
    "#include <iostream>\n",
    "\n",
    "// utility function to print deque elements\n",
    "void display_deque(std::deque<std::string> dq)\n",
    "{\n",
    "  for (const std::string& num : dq)\n",
    "    std::cout << num << \", \";\n",
    "}\n",
    "\n",
    "display_deque(dq_string);"
   ]
  },
  {
   "cell_type": "code",
   "execution_count": 13,
   "metadata": {},
   "outputs": [
    {
     "name": "stdout",
     "output_type": "stream",
     "text": [
      "A0, a1, a2, a3, \n",
      "a1, a2, a3, \n"
     ]
    }
   ],
   "source": [
    "// Remove lements from the back\n",
    "dq_string.pop_back();\n",
    "display_deque(dq_string);\n",
    "\n",
    "std::cout << std::endl;\n",
    "\n",
    "// Remove element from the front\n",
    "dq_string.pop_front();\n",
    "display_deque(dq_string);\n",
    "std::cout << std::endl;"
   ]
  },
  {
   "cell_type": "code",
   "execution_count": 14,
   "metadata": {},
   "outputs": [
    {
     "name": "stdout",
     "output_type": "stream",
     "text": [
      "First element: a1\n",
      "Second element: a2\n",
      "Last element: a3\n"
     ]
    }
   ],
   "source": [
    "// Deque Iterator\n",
    "std::deque<std::string>::iterator iter_dq_string;\n",
    "\n",
    "// Make iterator point to first element\n",
    "iter_dq_string = dq_string.begin();\n",
    "\n",
    "// Print value pointed by iterator (with indirection operator *)\n",
    "std::string first_element = *iter_dq_string;\n",
    "std::cout << \"First element: \" << first_element << std::endl;\n",
    "\n",
    "// Element at index 1\n",
    "iter_dq_string = dq_string.begin() + 1;\n",
    "std::string second_element = *iter_dq_string;\n",
    "std::cout << \"Second element: \" << second_element << std::endl;\n",
    "\n",
    "// Last element\n",
    "iter_dq_string = dq_string.end()-1;\n",
    "std::string last_element = *iter_dq_string;\n",
    "std::cout << \"Last element: \" << last_element << std::endl;\n"
   ]
  },
  {
   "cell_type": "markdown",
   "metadata": {},
   "source": [
    "# Associative Containers"
   ]
  },
  {
   "cell_type": "markdown",
   "metadata": {},
   "source": [
    "## Set (unique values)\n",
    "    std::set <data_type> set_name;\n",
    "    or,\n",
    "    std::set <data_type, greater<data_type>> set_name;\n",
    "    * Note: We can use any comparator in place of greater<data_type> to give set a custom order sorting."
   ]
  },
  {
   "cell_type": "code",
   "execution_count": 15,
   "metadata": {},
   "outputs": [
    {
     "data": {
      "text/plain": [
       "{ 1, 2, 3, 4, 5 }"
      ]
     },
     "execution_count": 15,
     "metadata": {},
     "output_type": "execute_result"
    }
   ],
   "source": [
    "#include <iostream>\n",
    "#include <set>\n",
    "// Definition\n",
    "std::set<int> set1 = {1, 2, 3, 4, 5};\n",
    "set1"
   ]
  },
  {
   "cell_type": "code",
   "execution_count": 16,
   "metadata": {},
   "outputs": [
    {
     "data": {
      "text/plain": [
       "{ 1, 2, 3, 4, 5, 6, 7 }"
      ]
     },
     "execution_count": 16,
     "metadata": {},
     "output_type": "execute_result"
    }
   ],
   "source": [
    "// Add elements\n",
    "set1.insert(6);\n",
    "set1.insert(7);\n",
    "set1"
   ]
  },
  {
   "cell_type": "code",
   "execution_count": 17,
   "metadata": {},
   "outputs": [],
   "source": [
    "// Does not insert existing values\n",
    "set1.insert(8);"
   ]
  },
  {
   "cell_type": "code",
   "execution_count": 18,
   "metadata": {},
   "outputs": [
    {
     "name": "stdout",
     "output_type": "stream",
     "text": [
      "1, 2, 3, 4, 5, 6, 7, 8, "
     ]
    }
   ],
   "source": [
    "// Display with auto\n",
    "for (auto &s : set1)\n",
    "{\n",
    "    std::cout << s << \", \";\n",
    "}"
   ]
  },
  {
   "cell_type": "code",
   "execution_count": 19,
   "metadata": {},
   "outputs": [
    {
     "data": {
      "text/plain": [
       "{ 20, 10, 2, 0 }"
      ]
     },
     "execution_count": 19,
     "metadata": {},
     "output_type": "execute_result"
    }
   ],
   "source": [
    "// Order: By default, the std::set is sorted in ascending order\n",
    "std::set <int, std::greater<int>> set2;\n",
    "set2.insert(2);\n",
    "set2.insert(0);\n",
    "set2.insert(20);\n",
    "set2.insert(10);\n",
    "set2"
   ]
  },
  {
   "cell_type": "code",
   "execution_count": 20,
   "metadata": {},
   "outputs": [
    {
     "data": {
      "text/plain": [
       "{ 20, 10, 0 }"
      ]
     },
     "execution_count": 20,
     "metadata": {},
     "output_type": "execute_result"
    }
   ],
   "source": [
    "// Erase\n",
    "set2.erase(2);\n",
    "set2"
   ]
  },
  {
   "cell_type": "code",
   "execution_count": 21,
   "metadata": {},
   "outputs": [
    {
     "name": "stdout",
     "output_type": "stream",
     "text": [
      "set1.lower_bound(0) : 1\n",
      "set1.upper_bound(40) : 8\n",
      "set2.lower_bound(40) : 0\n",
      "set2.upper_bound(40) : 20\n"
     ]
    }
   ],
   "source": [
    "// *Returns an iterator pointing to the first element in the container which is not considered to go before (val)\n",
    "\n",
    "// lower bound and upper bound for set set1\n",
    "std::cout << \"set1.lower_bound(0) : \"\n",
    "     << *set1.lower_bound(0) << std::endl;\n",
    "std::cout << \"set1.upper_bound(40) : \"\n",
    "     << *set1.upper_bound(40) << std::endl;\n",
    "\n",
    "// lower bound and upper bound for set set2\n",
    "std::cout << \"set2.lower_bound(40) : \"\n",
    "     << *set2.lower_bound(0) << std::endl;\n",
    "std::cout << \"set2.upper_bound(40) : \"\n",
    "     << *set2.upper_bound(40) << std::endl;"
   ]
  },
  {
   "cell_type": "markdown",
   "metadata": {},
   "source": [
    "# Map (set of pairs)\n",
    "    map<string, int> myMap;\n",
    "map only stores unique keys, and the keys themselves are in sorted order"
   ]
  },
  {
   "cell_type": "code",
   "execution_count": 22,
   "metadata": {},
   "outputs": [
    {
     "data": {
      "text/plain": [
       "{ 'a' => 10, 'b' => 1, 'c' => 3 }"
      ]
     },
     "execution_count": 22,
     "metadata": {},
     "output_type": "execute_result"
    }
   ],
   "source": [
    "#include <iostream>\n",
    "#include <map>\n",
    "\n",
    "std::map<char,int> map1;\n",
    "map1['a'] = 10;\n",
    "map1['b'] = 1;\n",
    "map1['c'] = 3;\n",
    "map1"
   ]
  },
  {
   "cell_type": "code",
   "execution_count": 23,
   "metadata": {},
   "outputs": [
    {
     "name": "stdout",
     "output_type": "stream",
     "text": [
      "a => 10\n",
      "b => 1\n",
      "c => 3\n"
     ]
    }
   ],
   "source": [
    "// Iterator of map\n",
    "std::map<char,int>::iterator iter_map1;\n",
    "\n",
    "for (iter_map1 = map1.begin(); iter_map1 != map1.end(); iter_map1++)\n",
    "{\n",
    "    std::cout << iter_map1->first << \" => \" << iter_map1->second << \"\\n\";\n",
    "}"
   ]
  },
  {
   "cell_type": "code",
   "execution_count": 24,
   "metadata": {},
   "outputs": [
    {
     "data": {
      "text/plain": [
       "{ 'a' => 10, 'b' => 1, 'c' => 3, 'f' => 20, 'x' => 2 }"
      ]
     },
     "execution_count": 24,
     "metadata": {},
     "output_type": "execute_result"
    }
   ],
   "source": [
    "// Insertion \n",
    "map1.insert(std::make_pair('f', 20));\n",
    "map1.insert(std::make_pair('x', 2));\n",
    "map1"
   ]
  },
  {
   "cell_type": "code",
   "execution_count": 25,
   "metadata": {},
   "outputs": [
    {
     "data": {
      "text/plain": [
       "{ 'a' => 10, 'b' => 1, 'c' => 3, 'e' => 100, 'f' => 20, 'x' => 2 }"
      ]
     },
     "execution_count": 25,
     "metadata": {},
     "output_type": "execute_result"
    }
   ],
   "source": [
    "// We can also insert data in std::map using operator [] i.e.\n",
    "map1['e'] = 100;\n",
    "map1"
   ]
  },
  {
   "cell_type": "code",
   "execution_count": 26,
   "metadata": {},
   "outputs": [
    {
     "data": {
      "text/plain": [
       "{ 'a' => 10, 'b' => 1, 'c' => 3, 'e' => 100, 'f' => 55, 'x' => 2 }"
      ]
     },
     "execution_count": 26,
     "metadata": {},
     "output_type": "execute_result"
    }
   ],
   "source": [
    "// Replace value\n",
    "map1['f'] = 55;\n",
    "map1"
   ]
  }
 ],
 "metadata": {
  "kernelspec": {
   "display_name": "C++14",
   "language": "C++14",
   "name": "xcpp14"
  },
  "language_info": {
   "codemirror_mode": "text/x-c++src",
   "file_extension": ".cpp",
   "mimetype": "text/x-c++src",
   "name": "c++",
   "version": "-std=c++14"
  }
 },
 "nbformat": 4,
 "nbformat_minor": 4
}
